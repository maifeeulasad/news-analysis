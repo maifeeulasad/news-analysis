{
 "cells": [
  {
   "cell_type": "code",
   "execution_count": null,
   "metadata": {},
   "outputs": [],
   "source": [
    "# https://towardsdatascience.com/named-entity-recognition-with-nltk-and-spacy-8c4a7d88e7da\n",
    "# needed to run this python3 -m spacy download en_core_web_sm\n",
    "\n",
    "#%pylab inline\n",
    "\n",
    "import datetime\n",
    "import pandas as pd\n",
    "import pickle as pk\n",
    "from scipy import sparse as sp\n",
    "import sqlite3\n",
    "\n",
    "import spacy\n",
    "from spacy import displacy\n",
    "from collections import Counter\n",
    "import en_core_web_sm\n",
    "nlp = en_core_web_sm.load()\n",
    "\n",
    "# Attempt Charting\n",
    "import matplotlib.pyplot as plt\n",
    "import matplotlib.axes as ax\n",
    "\n",
    "#import seaborn as sns\n",
    "\n",
    "from dateutil import parser"
   ]
  },
  {
   "cell_type": "code",
   "execution_count": null,
   "metadata": {},
   "outputs": [],
   "source": [
    "conn = sqlite3.connect('temp.sqlite3')\n",
    "c = conn.cursor()\n",
    "c.execute(\"SELECT * FROM documents\")\n",
    "totalArticles = str(len(c.fetchall()))\n",
    "print(totalArticles + \" Total Articles\")"
   ]
  },
  {
   "cell_type": "code",
   "execution_count": null,
   "metadata": {},
   "outputs": [],
   "source": [
    "p_df = pd.read_sql_query(\"SELECT * FROM documents\", conn)\n",
    "conn.close()"
   ]
  },
  {
   "cell_type": "code",
   "execution_count": null,
   "metadata": {},
   "outputs": [],
   "source": [
    "#print(p_df.head())\n",
    "\n",
    "l = len(pd.array(p_df['text']))\n",
    "take = l\n",
    "\n",
    "docs = pd.array(p_df['text'])[:take]\n",
    "pubdates = pd.array(p_df['publishdate'])[:take]\n",
    "\n",
    "final = {}\n",
    "words = set()\n",
    "\n",
    "for x,date in zip(docs,pubdates):\n",
    "    #print(x)\n",
    "    article = nlp(x)\n",
    "    items = [x.text for x in article.ents]\n",
    "    \n",
    "    #print([(X, X.ent_iob_, X.ent_type_) for X in article])\n",
    "    #print([(X.text, X.label_) for X in article.ents])\n",
    "    \n",
    "    #print(Counter(items).most_common(20))\n",
    "    y=dict(Counter(items).most_common(20))\n",
    "    words.update(y.keys())\n",
    "    date = parser.parse(date)\n",
    "    date = str(date.year) + \"-\" + str(date.month) + \"-\" + str(date.day)\n",
    "    if (date in final):\n",
    "        final[date]={**final[date],**y}\n",
    "    else:\n",
    "        final[date]=y\n",
    "     \n",
    "words = list(words)\n",
    "\n",
    "#print(final)\n",
    "#print(words)"
   ]
  },
  {
   "cell_type": "code",
   "execution_count": null,
   "metadata": {},
   "outputs": [],
   "source": [
    "dates_str = [key for key in final]\n",
    "dates_str.sort()\n",
    "\n",
    "build = {}\n",
    "\n",
    "for word in words:\n",
    "    build[word]=[]\n",
    "\n",
    "for date in dates_str:\n",
    "    entry = final[date]\n",
    "    for item in words:\n",
    "        if item in entry:\n",
    "            value = entry[item]\n",
    "            build[item].append(value)\n",
    "        else:\n",
    "            build[item].append(0)\n",
    "            \n",
    "print(build)"
   ]
  },
  {
   "cell_type": "code",
   "execution_count": null,
   "metadata": {},
   "outputs": [],
   "source": [
    "plt.ylabel(\"Word Frequency\")\n",
    "plt.xlabel(\"Date\")\n",
    "\n",
    "x_values = [datetime.datetime.strptime(date,\"%Y-%m-%d\").date() for date in dates_str]\n",
    "\n",
    "plt.xticks(rotation=90)\n",
    "for item in build:\n",
    "    plt.plot(x_values,build[item])\n",
    "    \n",
    "plt.legend(list(build.keys()),bbox_to_anchor=(1, 1))\n",
    "\n",
    "plt.show()"
   ]
  },
  {
   "cell_type": "code",
   "execution_count": null,
   "metadata": {},
   "outputs": [],
   "source": []
  }
 ],
 "metadata": {
  "kernelspec": {
   "display_name": "Python 3",
   "language": "python",
   "name": "python3"
  },
  "language_info": {
   "codemirror_mode": {
    "name": "ipython",
    "version": 3
   },
   "file_extension": ".py",
   "mimetype": "text/x-python",
   "name": "python",
   "nbconvert_exporter": "python",
   "pygments_lexer": "ipython3",
   "version": "3.8.10"
  }
 },
 "nbformat": 4,
 "nbformat_minor": 4
}
